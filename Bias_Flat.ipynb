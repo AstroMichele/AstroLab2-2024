{
 "cells": [
  {
   "cell_type": "code",
   "execution_count": 5,
   "metadata": {},
   "outputs": [],
   "source": [
    "import matplotlib.pyplot as plt\n",
    "import numpy as np\n",
    "from astropy.io import fits\n",
    "import pickle\n",
    "\n",
    "%matplotlib widget"
   ]
  },
  {
   "cell_type": "markdown",
   "metadata": {},
   "source": [
    "### Bias analysis"
   ]
  },
  {
   "cell_type": "code",
   "execution_count": 6,
   "metadata": {},
   "outputs": [
    {
     "data": {
      "text/plain": [
       "SIMPLE  =                    T / file does conform to FITS standard             \n",
       "BITPIX  =                   16 / number of bits per data pixel                  \n",
       "NAXIS   =                    2 / number of data axes                            \n",
       "NAXIS1  =                  521 / length of data axis 1                          \n",
       "NAXIS2  =                  156 / length of data axis 2                          \n",
       "EXTEND  =                    T / FITS dataset may contain extensions            \n",
       "COMMENT   FITS (Flexible Image Transport System) format is defined in 'Astronomy\n",
       "COMMENT   and Astrophysics', volume 376, page 359; bibcode: 2001A&A...376..359H \n",
       "BZERO   =                32768 / offset data range to that of unsigned short    \n",
       "BSCALE  =                    1 / default scaling factor                         \n",
       "DATE    = '2023-02-15T05:14:25' / file creation date (YYYY-MM-DDThh:mm:ss UT)   \n",
       "FILENAME= 'AF824296.fits'      / Original file name                             \n",
       "TIMESYS = 'UTC     '                                                            \n",
       "DATE-OBS= '2023-02-15T05:14:25.1' / UTC date at start of exposure               \n",
       "JD      =       2459990.718346 / JD at start                                    \n",
       "MJD     =         59990.218346 / MJD at start                                   \n",
       "EXPTIME =                 0.00 / [s] Exposure time                              \n",
       "CCD-TEMP=                -95.5 / CCD temperature (Celsius) at start of exposure \n",
       "SET-TEMP=                -95.0 / CCD setpoint temperature (Celsius)             \n",
       "IMAGETYP= 'Bias    '                                                            \n",
       "OBJECT  = 'bias4   '                                                            \n",
       "OBSERVER= 'Borsato '                                                            \n",
       "PROGRAM = 'Nascimbeni'         / Program name                                   \n",
       "FILTER  = 'r-Sloan '           / Filter Wheel position 6                        \n",
       "GRAT_TYP= 'NONE    '           / Grism Wheel position 1                         \n",
       "SLIT    = 'NONE    '           / Aperture Wheel position 1                      \n",
       "LAMP    = 'NO      '                                                            \n",
       "CAMERA  =                46893 / Actual Camera focus position                   \n",
       "FOCUSOFF=                 -890 / Filter focus offset                            \n",
       "ROTANGLE=                 70.0 / [deg] Telescope flange rotation angle          \n",
       "LTM1_1  =                0.250                                                  \n",
       "LTM2_2  =                0.250                                                  \n",
       "LTV1    =                   -1                                                  \n",
       "LTV2    =                -1023                                                  \n",
       "X-START =                    2 / physical windowing X start pixel               \n",
       "Y-START =                 1024 / physical windowing Y start pixel               \n",
       "X-STOP  =                 2085 / physical windowing X stop pixel                \n",
       "Y-STOP  =                 1647 / physical windowing Y stop pixel                \n",
       "APPOS   =                    0 / Aperture wheel position                        \n",
       "FLPOS   =               200000 / Filter wheel position                          \n",
       "GRPOS   =                    0 / Grism wheel position                           \n",
       "ORIGIN  = 'Asiago Astronomical Observatory'                                     \n",
       "TELESCOP= '1.82m Reflector'                                                     \n",
       "INSTRUME= 'AFOSC + Andor iKon-L DZ936N-BEX2-DD-9HF'                             \n",
       "DETECTOR= 'E2V CCD42-40 DD'                                                     \n",
       "BINX    =                    4 / Horizontal Binning factor used                 \n",
       "BINY    =                    4 / Vertical Binning factor used                   \n",
       "GAIN    =                 1.91 / [e/ADU] CCD Camera gain                        \n",
       "RDNOISE =                 7.10 / [e] CCD Camera readout noise                   \n",
       "CCDSCALE=                 0.25 / [arcsec/px] unbinned CCD camera scale          \n",
       "SITETYPE= 'GEODETIC'                                                            \n",
       "SITESYS = 'WGS84   '                                                            \n",
       "SITELAT =           45.8485817 / [deg] Telescope latitude, N45:50:54.894        \n",
       "SITELONG=           11.5689992 / [deg] Telescope longitude, E11:34:08.397       \n",
       "SITEELEV=               1376.2 / [m] Telescope height above sea level           \n",
       "HSSPEED =                    2 / 1 MHz CCD sensor horizontal shift speed        \n",
       "OUTMODE =                    0 / High Sensitivity CCD sensor output mode        \n",
       "PREAMP  =                    1 / x2 CCD sensor preamplifier gain                \n",
       "HJD     =       2459990.718684 / Heliocentric Julian Date at middle of exposure \n",
       "EQUINOX =                2000.                                                  \n",
       "RADESYS = 'FK5     '                                                            \n",
       "LST     = '15:40:30.92'        / Local sideral time at start                    \n",
       "HA      = '+00:00:18'          / Telescope HA at start                          \n",
       "RA      = '15:39:02.01'        / Telescope RA (J2000.0)                         \n",
       "DEC     = '+00:17:10'          / Telescope Dec (J2000.0)                        \n",
       "ALTITUDE=             44.37506 / Telescope altitude at start                    \n",
       "AZIMUTH =              0.10794 / Telescope azimuth at start                     \n",
       "AIRMASS =                1.429 / Telescope airmass at start                     \n",
       "PARANGLE=                0.075 / Telescope parallactic angle at start           \n",
       "URA     =            235.11067 / [deg] Telescope raw Right Asc. reading         \n",
       "UDEC    =              0.21683 / [deg] Telescope raw Dec reading                \n",
       "OBJCTNAM= 'Flat    '           / Object name from Telescope Control             \n",
       "OBJCTRA = '15:35:09.25'        / Object RA (J2000.0)                            \n",
       "OBJCTDEC= '+00:04:43'          / Object Dec (J2000.0)                           \n",
       "M2-Z    =                7.200 / [mm] M2 Z (focus) position                     \n",
       "TEMP-M1E=                  8.5 / Main mirror est side temperature at start (Cels\n",
       "TEMP-M1W=                  7.9 / Main mirror west side temperature at start (Cel\n",
       "TEMP-M2 =                  8.9 / M2 mirror temperature at start (Celsius)       \n",
       "TEMP-TOP=                  7.5 / Telescope Top Ring temperature at start (Celsiu\n",
       "TEMP-INT=                  9.4 / Dome temperature at start (Celsius)            \n",
       "TEMP-EXT=                  8.7 / External temperature at start (Celsius)        \n",
       "HUM-INT =                   19 / [%] Dome relative humidity at start            \n",
       "HUM-EXT =                   14 / [%] External relative humidity at start        \n",
       "TEMP-AF =                 10.8 / AFOSC temperature at start (Celsius)           \n",
       "TEMP-FL =                  7.6 / Dome floor temperature at start (Celsius)      \n",
       "TEMP-CEL=                  8.5 / Telescope Main mirror cell temperature at start\n",
       "ATMPRESS=                874.5 / [hPa] Atmospheric Pressure at start            \n",
       "WIND-DIR=                  344 / [deg] Wind Direction at start                  \n",
       "WIND-VEL=                  1.3 / [m/s] Wind Velocity at start                   "
      ]
     },
     "execution_count": 6,
     "metadata": {},
     "output_type": "execute_result"
    }
   ],
   "source": [
    "bias_list = np.genfromtxt('../group08_HAT-P-12_20230214/bias/bias_list.txt', dtype=str)\n",
    "bias_fits = fits.open('../group08_HAT-P-12_20230214/bias/'+bias_list[0]) #takes the first bias .fits file\n",
    "bias_hdu = bias_fits[0]\n",
    "bias_hdu.header"
   ]
  },
  {
   "cell_type": "code",
   "execution_count": 7,
   "metadata": {},
   "outputs": [
    {
     "name": "stdout",
     "output_type": "stream",
     "text": [
      "Julian date : 2459990.718346 JD\n",
      "CCD Gain : 1.91 [e/ADU]\n",
      "CCD Readout noise: 7.10 [e]\n"
     ]
    }
   ],
   "source": [
    "bias_time = bias_hdu.header['JD']\n",
    "bias_airmass = bias_hdu.header['AIRMASS']\n",
    "bias_gain = bias_hdu.header['GAIN']\n",
    "bias_gain_comment = bias_hdu.header.comments['GAIN'] #unit\n",
    "bias_readout_noise = bias_hdu.header['RDNOISE']\n",
    "bias_ron_comment = bias_hdu.header.comments['RDNOISE']\n",
    "\n",
    "print('Julian date : {0:12.6f} JD'.format(bias_time)) #converted to UTC: 2023-02-15 05:14:25.094\n",
    "print('CCD Gain : {0:3.2f} {1:.7s}'.format(bias_gain, bias_gain_comment)) #converts ADU in electrons (WATCH OUT! some instruments have an opposite definition, i.e. [ADU/e])\n",
    "print('CCD Readout noise: {0:3.2f} {1:.3s}'.format(bias_readout_noise, bias_ron_comment))\n",
    "\n",
    "bias_data = bias_hdu.data * bias_gain   #converted to electrons"
   ]
  },
  {
   "cell_type": "code",
   "execution_count": 8,
   "metadata": {},
   "outputs": [
    {
     "data": {
      "text/plain": [
       "30"
      ]
     },
     "execution_count": 8,
     "metadata": {},
     "output_type": "execute_result"
    }
   ],
   "source": [
    "n_images = len(bias_list) #we check the number of frames since we might have commented the original file because some frames may be damaged or not good for the analysis\n",
    "n_images"
   ]
  },
  {
   "cell_type": "code",
   "execution_count": null,
   "metadata": {},
   "outputs": [],
   "source": [
    "dim00, dim01 = np.shape(bias_data)\n",
    "stack = np.empty([n_images, dim00, dim01])\n",
    "\n",
    "for i, name in enumerate(bias_list):\n",
    "\n",
    "    bias_temp = fits.open('../group08_HAT-P-12_20230214/bias/' + name)\n",
    "    stack[i, :, :] = bias_temp[0].data * bias_temp[0].header['GAIN']    #we saved the bias data multiplied by the gain (to convert into electrons) in the stack array\n",
    "    bias_temp.close()\n",
    "\n",
    "median_bias = np.median(stack, axis = 0)"
   ]
  },
  {
   "cell_type": "code",
   "execution_count": null,
   "metadata": {},
   "outputs": [],
   "source": [
    "print(np.amin(bias_data))\n",
    "print(np.amax(bias_data))"
   ]
  },
  {
   "cell_type": "code",
   "execution_count": null,
   "metadata": {},
   "outputs": [],
   "source": [
    "fig, ax = plt.subplots(2, figsize = (10, 6))\n",
    "\n",
    "im1 = ax[0].imshow(bias_data, vmin = 2770, vmax = 2810, origin='lower')\n",
    "im2 = ax[1].imshow(median_bias, vmin = 2770, vmax = 2810, origin='lower')\n",
    "cbar = fig.colorbar(im1, ax=ax)\n",
    "cbar.set_label('e')\n",
    "ax[0].set_xlabel('X [pixel]')\n",
    "ax[0].set_ylabel('Y [pixel]')\n",
    "ax[1].set_xlabel('X [pixel]')\n",
    "ax[1].set_ylabel('Y [pixel]')\n",
    "plt.show()"
   ]
  },
  {
   "cell_type": "code",
   "execution_count": null,
   "metadata": {},
   "outputs": [],
   "source": [
    "fullframe_error_median_bias = np.std(stack, axis=0)/np.sqrt(np.shape(stack)[0])"
   ]
  },
  {
   "cell_type": "code",
   "execution_count": null,
   "metadata": {},
   "outputs": [],
   "source": [
    "pickle.dump(median_bias, open('../Results/median_bias.p', 'wb'))   #wb: write bite / saves the values in a new file\n",
    "pickle.dump(np.median(fullframe_error_median_bias), open('../Results/median_bias_error.p', 'wb')) "
   ]
  },
  {
   "cell_type": "markdown",
   "metadata": {},
   "source": [
    "### Flat analysis"
   ]
  },
  {
   "cell_type": "code",
   "execution_count": null,
   "metadata": {},
   "outputs": [],
   "source": [
    "flat_list = np.genfromtxt('../group08_HAT-P-12_20230214/flat/flat_list.txt', dtype=str)\n",
    "n_flat = len(flat_list)"
   ]
  },
  {
   "cell_type": "code",
   "execution_count": null,
   "metadata": {},
   "outputs": [],
   "source": [
    "median_bias = pickle.load(open('../Results/median_bias.p', 'rb'))\n",
    "median_bias_error = pickle.load(open('../Results/median_bias_error.p', 'rb'))\n",
    "\n",
    "flat00_fits = fits.open('../group08_HAT-P-12_20230214/flat/' + flat_list[0])\n",
    "flat00_gain = flat00_fits[0].header['GAIN']\n",
    "flat00_ron = flat00_fits[0].header['RDNOISE']\n",
    "flat00_data = flat00_fits[0].data * flat00_gain"
   ]
  },
  {
   "cell_type": "code",
   "execution_count": null,
   "metadata": {},
   "outputs": [],
   "source": [
    "fig, ax = plt.subplots(2, 1, figsize=(10, 6))\n",
    "im1 = ax[0].imshow(flat00_data[:, 20:490], origin='lower', cmap='magma')   #the indexing is to exclude the black columns in the CCD\n",
    "median_column = np.average(flat00_data[:, 20:490], axis=0)\n",
    "im2 = ax[1].plot(median_column)\n",
    "cbar = fig.colorbar(im1, ax=ax)\n",
    "\n",
    "cbar.set_label('e')\n",
    "ax[0].set_xlabel('X [pixels]')\n",
    "ax[0].set_ylabel('Y [pixels]')\n",
    "ax[1].set_xlabel('X [pixels]')\n",
    "ax[1].set_ylabel('Average counts')\n",
    "plt.show()"
   ]
  },
  {
   "cell_type": "code",
   "execution_count": null,
   "metadata": {},
   "outputs": [],
   "source": [
    "flat_dim00, flat_dim01 = np.shape(flat00_data)\n",
    "stack = np.empty([n_flat, flat_dim00, flat_dim01])\n",
    "\n",
    "for i_flat, flat_name in enumerate(flat_list):\n",
    "    flat_temp = fits.open('../group08_HAT-P-12_20230214/flat/' + flat_name)\n",
    "    stack[i_flat, :, :] = flat_temp[0].data * flat_temp[0].header['GAIN'] - median_bias #we remove the bias to know the real value of the photons reaching the CCD\n",
    "    flat_temp.close()"
   ]
  },
  {
   "cell_type": "code",
   "execution_count": null,
   "metadata": {},
   "outputs": [],
   "source": [
    "window_size = 50\n",
    "\n",
    "x0 = np.int16(flat_dim01/2 - window_size/2)\n",
    "x1 = np.int16(flat_dim01/2 + window_size/2)\n",
    "\n",
    "y0 = np.int16(flat_dim00/2 - window_size/2)\n",
    "y1 = np.int16(flat_dim00/2 + window_size/2)\n",
    "\n",
    "flat_selection_median = np.median(flat00_data[y0:y1, x0:x1])"
   ]
  },
  {
   "cell_type": "code",
   "execution_count": null,
   "metadata": {},
   "outputs": [],
   "source": [
    "normalization_factor = np.median(stack[:,  y0:y1, x0:x1], axis=(1, 2))\n",
    "print(normalization_factor)"
   ]
  },
  {
   "cell_type": "code",
   "execution_count": null,
   "metadata": {},
   "outputs": [],
   "source": [
    "x_axis = np.arange(0, 30, 1)\n",
    "plt.figure(figsize=(8, 4))\n",
    "plt.scatter(x_axis, normalization_factor)\n",
    "plt.show()"
   ]
  },
  {
   "cell_type": "code",
   "execution_count": null,
   "metadata": {},
   "outputs": [],
   "source": [
    "stack_normalized_iter = np.zeros_like(stack)\n",
    "\n",
    "for i_flat in range(0, n_flat):\n",
    "    stack_normalized_iter[i_flat, :, :] = stack[i_flat, :, :]/normalization_factor[i_flat]\n",
    "\n",
    "median_normalized_flat = np.median(stack_normalized_iter, axis = 0)"
   ]
  },
  {
   "cell_type": "code",
   "execution_count": null,
   "metadata": {},
   "outputs": [],
   "source": [
    "stack_associated_error = np.sqrt(stack + median_bias_error**2 + flat00_ron**2)\n",
    "normalized_flat_error = (stack_associated_error.T / normalization_factor).T\n",
    "median_normalized_flat_error = np.sqrt(np.sum(normalized_flat_error**2, axis=0) / n_flat**2 )"
   ]
  },
  {
   "cell_type": "code",
   "execution_count": null,
   "metadata": {},
   "outputs": [],
   "source": [
    "pickle.dump(median_normalized_flat, open('../Results/median_normalized_flat.p', 'wb'))\n",
    "pickle.dump(median_normalized_flat_error, open('../Results/median_normalized_flat_error.p', 'wb'))"
   ]
  }
 ],
 "metadata": {
  "kernelspec": {
   "display_name": "astrolab2",
   "language": "python",
   "name": "python3"
  },
  "language_info": {
   "codemirror_mode": {
    "name": "ipython",
    "version": 3
   },
   "file_extension": ".py",
   "mimetype": "text/x-python",
   "name": "python",
   "nbconvert_exporter": "python",
   "pygments_lexer": "ipython3",
   "version": "3.9.20"
  }
 },
 "nbformat": 4,
 "nbformat_minor": 2
}
